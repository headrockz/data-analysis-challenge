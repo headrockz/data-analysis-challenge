{
 "cells": [
  {
   "cell_type": "code",
   "execution_count": 1,
   "source": [
    "import pandas as pd\r\n",
    "from utils.load_db import LoadDb\r\n",
    "from utils.load_municipios import LoadMunicipios\r\n",
    "from utils.load_populacao import LoadPopulacao\r\n",
    "from utils.load_bancos import LoadBancos\r\n",
    "from utils.load_idh import LoadIDH"
   ],
   "outputs": [],
   "metadata": {}
  },
  {
   "cell_type": "markdown",
   "source": [
    "# Carregando os datasets para os dataframes"
   ],
   "metadata": {}
  },
  {
   "cell_type": "code",
   "execution_count": 9,
   "source": [
    "agencias = pd.read_excel('datasets/agencia.xlsx')\r\n",
    "postos = pd.read_excel('datasets/postos.xlsx')\r\n",
    "postose = pd.read_excel('datasets/postosEletronicos.xlsx')\r\n"
   ],
   "outputs": [],
   "metadata": {}
  },
  {
   "cell_type": "markdown",
   "source": [
    "# Carrengando os dataframes para um banco de dados sql"
   ],
   "metadata": {}
  },
  {
   "cell_type": "code",
   "execution_count": 10,
   "source": [
    "data = LoadDb('database.db')"
   ],
   "outputs": [],
   "metadata": {}
  },
  {
   "cell_type": "markdown",
   "source": [
    "## Salvando os dados de agencias no banco de dados"
   ],
   "metadata": {}
  },
  {
   "cell_type": "code",
   "execution_count": 11,
   "source": [
    "agencias"
   ],
   "outputs": [
    {
     "output_type": "execute_result",
     "data": {
      "text/html": [
       "<div>\n",
       "<style scoped>\n",
       "    .dataframe tbody tr th:only-of-type {\n",
       "        vertical-align: middle;\n",
       "    }\n",
       "\n",
       "    .dataframe tbody tr th {\n",
       "        vertical-align: top;\n",
       "    }\n",
       "\n",
       "    .dataframe thead th {\n",
       "        text-align: right;\n",
       "    }\n",
       "</style>\n",
       "<table border=\"1\" class=\"dataframe\">\n",
       "  <thead>\n",
       "    <tr style=\"text-align: right;\">\n",
       "      <th></th>\n",
       "      <th>NOME INSTITUIÇÃO</th>\n",
       "      <th>MUNICÍPIO</th>\n",
       "      <th>UF</th>\n",
       "    </tr>\n",
       "  </thead>\n",
       "  <tbody>\n",
       "    <tr>\n",
       "      <th>0</th>\n",
       "      <td>CAIXA ECONOMICA FEDERAL                       ...</td>\n",
       "      <td>ABADIANIA                                     ...</td>\n",
       "      <td>GO</td>\n",
       "    </tr>\n",
       "    <tr>\n",
       "      <th>1</th>\n",
       "      <td>ITAÚ UNIBANCO S.A.                            ...</td>\n",
       "      <td>ABADIANIA                                     ...</td>\n",
       "      <td>GO</td>\n",
       "    </tr>\n",
       "    <tr>\n",
       "      <th>2</th>\n",
       "      <td>BANCO DO BRASIL S.A.                          ...</td>\n",
       "      <td>ABAETE                                        ...</td>\n",
       "      <td>MG</td>\n",
       "    </tr>\n",
       "    <tr>\n",
       "      <th>3</th>\n",
       "      <td>CAIXA ECONOMICA FEDERAL                       ...</td>\n",
       "      <td>ABAETE                                        ...</td>\n",
       "      <td>MG</td>\n",
       "    </tr>\n",
       "    <tr>\n",
       "      <th>4</th>\n",
       "      <td>ITAÚ UNIBANCO S.A.                            ...</td>\n",
       "      <td>ABAETE                                        ...</td>\n",
       "      <td>MG</td>\n",
       "    </tr>\n",
       "    <tr>\n",
       "      <th>...</th>\n",
       "      <td>...</td>\n",
       "      <td>...</td>\n",
       "      <td>...</td>\n",
       "    </tr>\n",
       "    <tr>\n",
       "      <th>19314</th>\n",
       "      <td>BANCO BRADESCO S.A.                           ...</td>\n",
       "      <td>XIQUE-XIQUE                                   ...</td>\n",
       "      <td>BA</td>\n",
       "    </tr>\n",
       "    <tr>\n",
       "      <th>19315</th>\n",
       "      <td>BANCO DO BRASIL S.A.                          ...</td>\n",
       "      <td>ZE DOCA                                       ...</td>\n",
       "      <td>MA</td>\n",
       "    </tr>\n",
       "    <tr>\n",
       "      <th>19316</th>\n",
       "      <td>CAIXA ECONOMICA FEDERAL                       ...</td>\n",
       "      <td>ZE DOCA                                       ...</td>\n",
       "      <td>MA</td>\n",
       "    </tr>\n",
       "    <tr>\n",
       "      <th>19317</th>\n",
       "      <td>BANCO DO NORDESTE DO BRASIL S.A.              ...</td>\n",
       "      <td>ZE DOCA                                       ...</td>\n",
       "      <td>MA</td>\n",
       "    </tr>\n",
       "    <tr>\n",
       "      <th>19318</th>\n",
       "      <td>BANCO BRADESCO S.A.                           ...</td>\n",
       "      <td>ZE DOCA                                       ...</td>\n",
       "      <td>MA</td>\n",
       "    </tr>\n",
       "  </tbody>\n",
       "</table>\n",
       "<p>19319 rows × 3 columns</p>\n",
       "</div>"
      ],
      "text/plain": [
       "      NOME INSTITUIÇÃO                                                                                                                                                                                          ...  UF\n",
       "0      CAIXA ECONOMICA FEDERAL                       ...                                                                                                                                                        ...  GO\n",
       "1      ITAÚ UNIBANCO S.A.                            ...                                                                                                                                                        ...  GO\n",
       "2      BANCO DO BRASIL S.A.                          ...                                                                                                                                                        ...  MG\n",
       "3      CAIXA ECONOMICA FEDERAL                       ...                                                                                                                                                        ...  MG\n",
       "4      ITAÚ UNIBANCO S.A.                            ...                                                                                                                                                        ...  MG\n",
       "...                                                  ...                                                                                                                                                        ...  ..\n",
       "19314  BANCO BRADESCO S.A.                           ...                                                                                                                                                        ...  BA\n",
       "19315  BANCO DO BRASIL S.A.                          ...                                                                                                                                                        ...  MA\n",
       "19316  CAIXA ECONOMICA FEDERAL                       ...                                                                                                                                                        ...  MA\n",
       "19317  BANCO DO NORDESTE DO BRASIL S.A.              ...                                                                                                                                                        ...  MA\n",
       "19318  BANCO BRADESCO S.A.                           ...                                                                                                                                                        ...  MA\n",
       "\n",
       "[19319 rows x 3 columns]"
      ]
     },
     "metadata": {},
     "execution_count": 11
    }
   ],
   "metadata": {}
  },
  {
   "cell_type": "code",
   "execution_count": null,
   "source": [
    "for i in agencias.values:\r\n",
    "    data.insert_agencia(i[0], i[1], i[2])"
   ],
   "outputs": [],
   "metadata": {}
  },
  {
   "cell_type": "markdown",
   "source": [
    "## Salvando os dados de postos no banco de dados"
   ],
   "metadata": {}
  },
  {
   "cell_type": "code",
   "execution_count": null,
   "source": [
    "for i in postos.values:\r\n",
    "    data.insert_postos(i[0], i[1], i[2])"
   ],
   "outputs": [],
   "metadata": {}
  },
  {
   "cell_type": "markdown",
   "source": [
    "## Salvando os dados de postos eletronicos no banco de dados"
   ],
   "metadata": {}
  },
  {
   "cell_type": "code",
   "execution_count": null,
   "source": [
    "for i in postose.values:\r\n",
    "    data.insert_postoseletronicos(i[0], i[1], i[2])"
   ],
   "outputs": [],
   "metadata": {}
  },
  {
   "cell_type": "code",
   "execution_count": null,
   "source": [
    "data.close()"
   ],
   "outputs": [],
   "metadata": {}
  },
  {
   "cell_type": "markdown",
   "source": [
    "# Carregando os municipios em outra tabela"
   ],
   "metadata": {}
  },
  {
   "cell_type": "code",
   "execution_count": 14,
   "source": [
    "data = LoadMunicipios('database.db')"
   ],
   "outputs": [],
   "metadata": {}
  },
  {
   "cell_type": "code",
   "execution_count": 15,
   "source": [
    "agencias = pd.read_sql('SELECT DISTINCT municipio, uf FROM agencias', con=data.conn)\r\n",
    "postos = pd.read_sql('SELECT DISTINCT municipio, uf FROM postos', con=data.conn)\r\n",
    "postose = pd.read_sql('SELECT DISTINCT municipio, uf FROM postos_eletronicos', con=data.conn)"
   ],
   "outputs": [],
   "metadata": {}
  },
  {
   "cell_type": "code",
   "execution_count": null,
   "source": [
    "for i in agencias.values:\r\n",
    "    result = data.select(i[0])\r\n",
    "    \r\n",
    "    data.insert_municipio(i[0], i[1])"
   ],
   "outputs": [],
   "metadata": {}
  },
  {
   "cell_type": "code",
   "execution_count": null,
   "source": [
    "for i in postos.values:\r\n",
    "    result = data.select(i[0])\r\n",
    "\r\n",
    "    data.insert_municipio(i[0], i[1], result)"
   ],
   "outputs": [],
   "metadata": {}
  },
  {
   "cell_type": "code",
   "execution_count": null,
   "source": [
    "for i in postose.values:\r\n",
    "    result = data.select(i[0])\r\n",
    "\r\n",
    "    data.insert_municipio(i[0], i[1], result)"
   ],
   "outputs": [],
   "metadata": {}
  },
  {
   "cell_type": "code",
   "execution_count": 16,
   "source": [
    "data.close()"
   ],
   "outputs": [],
   "metadata": {}
  },
  {
   "cell_type": "markdown",
   "source": [
    "# Carregando os dados de quantidade de agencias, postos e postos eletronicos por instituição"
   ],
   "metadata": {}
  },
  {
   "cell_type": "code",
   "execution_count": null,
   "source": [
    "data = LoadBancos('database.db')"
   ],
   "outputs": [],
   "metadata": {}
  },
  {
   "cell_type": "code",
   "execution_count": null,
   "source": [
    "agencias = pd.read_sql('SELECT nome_instituicao, municipio,  count(id_agencia) FROM agencias GROUP BY nome_instituicao, municipio ORDER BY municipio', con=data.conn)\r\n",
    "\r\n",
    "for i in agencias.values:\r\n",
    "    result = data.select(i[1])\r\n",
    "\r\n",
    "    data.insert_bancos_agencias(i[0], i[2], result)"
   ],
   "outputs": [],
   "metadata": {}
  },
  {
   "cell_type": "code",
   "execution_count": null,
   "source": [
    "postos = pd.read_sql('SELECT nome_instituicao, municipio, count(id_postos) FROM postos GROUP BY nome_instituicao, municipio ORDER BY municipio', con=data.conn)\r\n",
    "\r\n",
    "for i in postos.values:\r\n",
    "    result = data.select(i[1])\r\n",
    "\r\n",
    "    data.insert_or_update_postos_e(i[0], i[2], result)"
   ],
   "outputs": [],
   "metadata": {}
  },
  {
   "cell_type": "code",
   "execution_count": null,
   "source": [
    "postose = pd.read_sql('SELECT nome_instituicao, municipio, count(id_postose) FROM postos_eletronicos GROUP BY nome_instituicao, municipio ORDER BY municipio', con=data.conn)\r\n",
    "\r\n",
    "for i in postose.values:\r\n",
    "    result = data.select(i[1])\r\n",
    "\r\n",
    "    data.insert_or_update_postos_e(i[0], i[2], result)"
   ],
   "outputs": [],
   "metadata": {}
  },
  {
   "cell_type": "code",
   "execution_count": null,
   "source": [
    "data.close()"
   ],
   "outputs": [],
   "metadata": {}
  },
  {
   "cell_type": "markdown",
   "source": [
    "# Carregando dados de população"
   ],
   "metadata": {}
  },
  {
   "cell_type": "code",
   "execution_count": 17,
   "source": [
    "data = LoadPopulacao('database.db')"
   ],
   "outputs": [],
   "metadata": {}
  },
  {
   "cell_type": "code",
   "execution_count": 18,
   "source": [
    "populacao = pd.read_excel('datasets/populacao.xls', sheet_name='municipios')\r\n",
    "populacao"
   ],
   "outputs": [
    {
     "output_type": "execute_result",
     "data": {
      "text/html": [
       "<div>\n",
       "<style scoped>\n",
       "    .dataframe tbody tr th:only-of-type {\n",
       "        vertical-align: middle;\n",
       "    }\n",
       "\n",
       "    .dataframe tbody tr th {\n",
       "        vertical-align: top;\n",
       "    }\n",
       "\n",
       "    .dataframe thead th {\n",
       "        text-align: right;\n",
       "    }\n",
       "</style>\n",
       "<table border=\"1\" class=\"dataframe\">\n",
       "  <thead>\n",
       "    <tr style=\"text-align: right;\">\n",
       "      <th></th>\n",
       "      <th>UF</th>\n",
       "      <th>MUNICÍPIO</th>\n",
       "      <th>POPULAÇÃO ESTIMADA</th>\n",
       "      <th>Coeficiente de ajuste populacional</th>\n",
       "    </tr>\n",
       "  </thead>\n",
       "  <tbody>\n",
       "    <tr>\n",
       "      <th>0</th>\n",
       "      <td>GO</td>\n",
       "      <td>ABADIA DE GOIAS</td>\n",
       "      <td>8958</td>\n",
       "      <td>25</td>\n",
       "    </tr>\n",
       "    <tr>\n",
       "      <th>1</th>\n",
       "      <td>MG</td>\n",
       "      <td>ABADIA DOS DOURADOS</td>\n",
       "      <td>7006</td>\n",
       "      <td>10</td>\n",
       "    </tr>\n",
       "    <tr>\n",
       "      <th>2</th>\n",
       "      <td>GO</td>\n",
       "      <td>ABADIANIA</td>\n",
       "      <td>20461</td>\n",
       "      <td>10</td>\n",
       "    </tr>\n",
       "    <tr>\n",
       "      <th>3</th>\n",
       "      <td>MG</td>\n",
       "      <td>ABAETE</td>\n",
       "      <td>23250</td>\n",
       "      <td>10</td>\n",
       "    </tr>\n",
       "    <tr>\n",
       "      <th>4</th>\n",
       "      <td>PA</td>\n",
       "      <td>ABAETETUBA</td>\n",
       "      <td>159080</td>\n",
       "      <td>15</td>\n",
       "    </tr>\n",
       "    <tr>\n",
       "      <th>...</th>\n",
       "      <td>...</td>\n",
       "      <td>...</td>\n",
       "      <td>...</td>\n",
       "      <td>...</td>\n",
       "    </tr>\n",
       "    <tr>\n",
       "      <th>5565</th>\n",
       "      <td>BA</td>\n",
       "      <td>XIQUE-XIQUE</td>\n",
       "      <td>46523</td>\n",
       "      <td>10</td>\n",
       "    </tr>\n",
       "    <tr>\n",
       "      <th>5566</th>\n",
       "      <td>PB</td>\n",
       "      <td>ZABELE</td>\n",
       "      <td>2255</td>\n",
       "      <td>5</td>\n",
       "    </tr>\n",
       "    <tr>\n",
       "      <th>5567</th>\n",
       "      <td>SP</td>\n",
       "      <td>ZACARIAS</td>\n",
       "      <td>2752</td>\n",
       "      <td>5</td>\n",
       "    </tr>\n",
       "    <tr>\n",
       "      <th>5568</th>\n",
       "      <td>MA</td>\n",
       "      <td>ZE DOCA</td>\n",
       "      <td>51956</td>\n",
       "      <td>10</td>\n",
       "    </tr>\n",
       "    <tr>\n",
       "      <th>5569</th>\n",
       "      <td>SC</td>\n",
       "      <td>ZORTEA</td>\n",
       "      <td>3398</td>\n",
       "      <td>5</td>\n",
       "    </tr>\n",
       "  </tbody>\n",
       "</table>\n",
       "<p>5570 rows × 4 columns</p>\n",
       "</div>"
      ],
      "text/plain": [
       "      UF  ... Coeficiente de ajuste populacional\n",
       "0     GO  ...                                 25\n",
       "1     MG  ...                                 10\n",
       "2     GO  ...                                 10\n",
       "3     MG  ...                                 10\n",
       "4     PA  ...                                 15\n",
       "...   ..  ...                                ...\n",
       "5565  BA  ...                                 10\n",
       "5566  PB  ...                                  5\n",
       "5567  SP  ...                                  5\n",
       "5568  MA  ...                                 10\n",
       "5569  SC  ...                                  5\n",
       "\n",
       "[5570 rows x 4 columns]"
      ]
     },
     "metadata": {},
     "execution_count": 18
    }
   ],
   "metadata": {}
  },
  {
   "cell_type": "code",
   "execution_count": 23,
   "source": [
    "for i in populacao.values:\r\n",
    "    result = data.select(i[1])\r\n",
    "\r\n",
    "    data.insert(i[2], i[3], result)"
   ],
   "outputs": [
    {
     "output_type": "error",
     "ename": "AttributeError",
     "evalue": "'LoadPopulacao' object has no attribute 'select'",
     "traceback": [
      "\u001b[1;31m---------------------------------------------------------------------------\u001b[0m",
      "\u001b[1;31mAttributeError\u001b[0m                            Traceback (most recent call last)",
      "\u001b[1;32m~\\AppData\\Local\\Temp/ipykernel_16068/2199467930.py\u001b[0m in \u001b[0;36m<module>\u001b[1;34m\u001b[0m\n\u001b[0;32m      1\u001b[0m \u001b[0mcont\u001b[0m \u001b[1;33m=\u001b[0m\u001b[1;36m0\u001b[0m\u001b[1;33m\u001b[0m\u001b[1;33m\u001b[0m\u001b[0m\n\u001b[0;32m      2\u001b[0m \u001b[1;32mfor\u001b[0m \u001b[0mi\u001b[0m \u001b[1;32min\u001b[0m \u001b[0mpopulacao\u001b[0m\u001b[1;33m.\u001b[0m\u001b[0mvalues\u001b[0m\u001b[1;33m:\u001b[0m\u001b[1;33m\u001b[0m\u001b[1;33m\u001b[0m\u001b[0m\n\u001b[1;32m----> 3\u001b[1;33m     \u001b[0mresult\u001b[0m \u001b[1;33m=\u001b[0m \u001b[0mdata\u001b[0m\u001b[1;33m.\u001b[0m\u001b[0mselect\u001b[0m\u001b[1;33m(\u001b[0m\u001b[0mi\u001b[0m\u001b[1;33m[\u001b[0m\u001b[1;36m1\u001b[0m\u001b[1;33m]\u001b[0m\u001b[1;33m)\u001b[0m\u001b[1;33m\u001b[0m\u001b[1;33m\u001b[0m\u001b[0m\n\u001b[0m\u001b[0;32m      4\u001b[0m \u001b[1;33m\u001b[0m\u001b[0m\n\u001b[0;32m      5\u001b[0m     \u001b[1;31m# data.insert(i[2], i[3], result[0][0])\u001b[0m\u001b[1;33m\u001b[0m\u001b[1;33m\u001b[0m\u001b[0m\n",
      "\u001b[1;31mAttributeError\u001b[0m: 'LoadPopulacao' object has no attribute 'select'"
     ]
    }
   ],
   "metadata": {}
  },
  {
   "cell_type": "code",
   "execution_count": 2,
   "source": [
    "data.close()"
   ],
   "outputs": [
    {
     "output_type": "error",
     "ename": "NameError",
     "evalue": "name 'data' is not defined",
     "traceback": [
      "\u001b[1;31m---------------------------------------------------------------------------\u001b[0m",
      "\u001b[1;31mNameError\u001b[0m                                 Traceback (most recent call last)",
      "\u001b[1;32m~\\AppData\\Local\\Temp/ipykernel_20292/2928248260.py\u001b[0m in \u001b[0;36m<module>\u001b[1;34m\u001b[0m\n\u001b[1;32m----> 1\u001b[1;33m \u001b[0mdata\u001b[0m\u001b[1;33m.\u001b[0m\u001b[0mclose\u001b[0m\u001b[1;33m(\u001b[0m\u001b[1;33m)\u001b[0m\u001b[1;33m\u001b[0m\u001b[1;33m\u001b[0m\u001b[0m\n\u001b[0m",
      "\u001b[1;31mNameError\u001b[0m: name 'data' is not defined"
     ]
    }
   ],
   "metadata": {}
  },
  {
   "cell_type": "markdown",
   "source": [
    "# Carregando dados de idh"
   ],
   "metadata": {}
  },
  {
   "cell_type": "code",
   "execution_count": 3,
   "source": [
    "data = LoadIDH('database.db')"
   ],
   "outputs": [],
   "metadata": {}
  },
  {
   "cell_type": "code",
   "execution_count": 4,
   "source": [
    "idh = pd.read_excel('datasets/idh.xlsx')\r\n",
    "idh\r\n"
   ],
   "outputs": [
    {
     "output_type": "execute_result",
     "data": {
      "text/html": [
       "<div>\n",
       "<style scoped>\n",
       "    .dataframe tbody tr th:only-of-type {\n",
       "        vertical-align: middle;\n",
       "    }\n",
       "\n",
       "    .dataframe tbody tr th {\n",
       "        vertical-align: top;\n",
       "    }\n",
       "\n",
       "    .dataframe thead th {\n",
       "        text-align: right;\n",
       "    }\n",
       "</style>\n",
       "<table border=\"1\" class=\"dataframe\">\n",
       "  <thead>\n",
       "    <tr style=\"text-align: right;\">\n",
       "      <th></th>\n",
       "      <th>MUNICÍPIO</th>\n",
       "      <th>IDHM</th>\n",
       "    </tr>\n",
       "  </thead>\n",
       "  <tbody>\n",
       "    <tr>\n",
       "      <th>0</th>\n",
       "      <td>ABADIA DE GOIAS</td>\n",
       "      <td>0.708</td>\n",
       "    </tr>\n",
       "    <tr>\n",
       "      <th>1</th>\n",
       "      <td>ABADIA DOS DOURADOS</td>\n",
       "      <td>0.689</td>\n",
       "    </tr>\n",
       "    <tr>\n",
       "      <th>2</th>\n",
       "      <td>ABADIANIA</td>\n",
       "      <td>0.689</td>\n",
       "    </tr>\n",
       "    <tr>\n",
       "      <th>3</th>\n",
       "      <td>ABAETE</td>\n",
       "      <td>0.698</td>\n",
       "    </tr>\n",
       "    <tr>\n",
       "      <th>4</th>\n",
       "      <td>ABAETETUBA</td>\n",
       "      <td>0.628</td>\n",
       "    </tr>\n",
       "    <tr>\n",
       "      <th>...</th>\n",
       "      <td>...</td>\n",
       "      <td>...</td>\n",
       "    </tr>\n",
       "    <tr>\n",
       "      <th>5560</th>\n",
       "      <td>XIQUE-XIQUE</td>\n",
       "      <td>0.585</td>\n",
       "    </tr>\n",
       "    <tr>\n",
       "      <th>5561</th>\n",
       "      <td>ZABELE</td>\n",
       "      <td>0.623</td>\n",
       "    </tr>\n",
       "    <tr>\n",
       "      <th>5562</th>\n",
       "      <td>ZACARIAS</td>\n",
       "      <td>0.729</td>\n",
       "    </tr>\n",
       "    <tr>\n",
       "      <th>5563</th>\n",
       "      <td>ZE DOCA</td>\n",
       "      <td>0.595</td>\n",
       "    </tr>\n",
       "    <tr>\n",
       "      <th>5564</th>\n",
       "      <td>ZORTEA</td>\n",
       "      <td>0.761</td>\n",
       "    </tr>\n",
       "  </tbody>\n",
       "</table>\n",
       "<p>5565 rows × 2 columns</p>\n",
       "</div>"
      ],
      "text/plain": [
       "                MUNICÍPIO   IDHM\n",
       "0         ABADIA DE GOIAS  0.708\n",
       "1     ABADIA DOS DOURADOS  0.689\n",
       "2               ABADIANIA  0.689\n",
       "3                  ABAETE  0.698\n",
       "4              ABAETETUBA  0.628\n",
       "...                   ...    ...\n",
       "5560          XIQUE-XIQUE  0.585\n",
       "5561               ZABELE  0.623\n",
       "5562             ZACARIAS  0.729\n",
       "5563              ZE DOCA  0.595\n",
       "5564               ZORTEA  0.761\n",
       "\n",
       "[5565 rows x 2 columns]"
      ]
     },
     "metadata": {},
     "execution_count": 4
    }
   ],
   "metadata": {}
  },
  {
   "cell_type": "code",
   "execution_count": 5,
   "source": [
    "for i in idh.values:\r\n",
    "    result = data.select(i[0])\r\n",
    "\r\n",
    "    data.insert(i[1], result)"
   ],
   "outputs": [],
   "metadata": {}
  },
  {
   "cell_type": "code",
   "execution_count": 11,
   "source": [
    "data.close()"
   ],
   "outputs": [],
   "metadata": {}
  }
 ],
 "metadata": {
  "orig_nbformat": 4,
  "language_info": {
   "name": "python",
   "version": "3.9.7",
   "mimetype": "text/x-python",
   "codemirror_mode": {
    "name": "ipython",
    "version": 3
   },
   "pygments_lexer": "ipython3",
   "nbconvert_exporter": "python",
   "file_extension": ".py"
  },
  "kernelspec": {
   "name": "python3",
   "display_name": "Python 3.9.7 64-bit ('venv': venv)"
  },
  "interpreter": {
   "hash": "2ba5d6447e6eaea061d7b00bc51aefaf8426cae5fb507e53ffdafa93dd5c38a1"
  }
 },
 "nbformat": 4,
 "nbformat_minor": 2
}